{
 "cells": [
  {
   "cell_type": "code",
   "execution_count": 1,
   "id": "f372ce57-7975-4d28-b0c8-63aa48e2176e",
   "metadata": {},
   "outputs": [],
   "source": [
    "import json\n",
    "import requests\n",
    "import time\n",
    "import csv\n",
    "from requests_oauthlib import OAuth1\n",
    "from urllib.parse import parse_qs\n",
    "from flickrapi import FlickrAPI\n",
    "import nltk\n",
    "from nltk.sentiment.vader import SentimentIntensityAnalyzer\n",
    "import pandas as pd\n",
    "import numpy as np\n",
    "import html\n",
    "import re\n",
    "from datetime import datetime"
   ]
  },
  {
   "cell_type": "code",
   "execution_count": 2,
   "id": "2f817ea4-2467-48db-95cf-2b5184dc2af5",
   "metadata": {},
   "outputs": [
    {
     "name": "stderr",
     "output_type": "stream",
     "text": [
      "[nltk_data] Downloading package vader_lexicon to\n",
      "[nltk_data]     /Users/ceceliadeng/nltk_data...\n",
      "[nltk_data]   Package vader_lexicon is already up-to-date!\n"
     ]
    }
   ],
   "source": [
    "API_KEY = '6121804e178a34ebe49444e858987ee5'\n",
    "API_SECRET = '0995d081c0eccf00'\n",
    "API_END = 'https://api.flickr.com/services/rest/'\n",
    "flickr = FlickrAPI(API_KEY, API_SECRET, format='parsed-json')\n",
    "nltk.download('vader_lexicon')\n",
    "sid = SentimentIntensityAnalyzer()"
   ]
  },
  {
   "cell_type": "code",
   "execution_count": 3,
   "id": "102e0a04-0d5b-4675-9a2c-ab09c5742f3d",
   "metadata": {},
   "outputs": [],
   "source": [
    "def search_for_photos(keywords, start_date, end_date, num_images=400):\n",
    "    start = int(datetime.strptime(start_date, '%Y-%m-%d').timestamp())\n",
    "    end = int(datetime.strptime(end_date, '%Y-%m-%d').timestamp())\n",
    "    photos = flickr.photos.search(tags=keywords,\n",
    "                                  tag_mode='all',\n",
    "                                  min_upload_date=start, \n",
    "                                  max_upload_date=end,\n",
    "                                  per_page=num_images, \n",
    "                                  sort='date-posted-desc', \n",
    "                                  extras='date_upload')\n",
    "    return [photo['id'] for photo in photos['photos']['photo']]"
   ]
  },
  {
   "cell_type": "code",
   "execution_count": 4,
   "id": "3a501ae7-d6c2-45ef-bfbe-db1dda783709",
   "metadata": {},
   "outputs": [],
   "source": [
    "def analyze_sentiment(text):\n",
    "    scores = sid.polarity_scores(text)\n",
    "    if scores['compound'] >= 0.05:\n",
    "        sentiment = 'Positive'\n",
    "    elif scores['compound'] <= -0.05:\n",
    "        sentiment = 'Negative'\n",
    "    else:\n",
    "        sentiment = 'Neutral'\n",
    "    return sentiment, scores"
   ]
  },
  {
   "cell_type": "code",
   "execution_count": 5,
   "id": "fcfb31a8-adbb-45d6-9f04-bd3f6e299afa",
   "metadata": {},
   "outputs": [],
   "source": [
    "def fetch_and_display_comments(image_ids):\n",
    "    comment_data = []\n",
    "    for photo_id in image_ids:\n",
    "        params = {\n",
    "            'method': 'flickr.photos.comments.getList',\n",
    "            'photo_id': photo_id,\n",
    "            'api_key': API_KEY,\n",
    "            'format': 'json',\n",
    "            'nojsoncallback': 1\n",
    "        }\n",
    "        try: \n",
    "            response = requests.get(API_END, params=params)\n",
    "            response.raise_for_status()\n",
    "            data = response.json()\n",
    "            # print(data)\n",
    "            comments = data.get('comments', {}).get('comment', [])\n",
    "            \n",
    "            if comments:  # Only print if there are comments\n",
    "                for comment in comments:\n",
    "                    \n",
    "                    comment_text = html.unescape(comment.get('_content', ''))\n",
    "                    comment_text = re.sub(r'https?://\\S+', '', comment_text)  # http(s) URLs\n",
    "                    comment_text = re.sub(r'www\\.\\S+', '', comment_text)      # www URLs\n",
    "                    comment_text = re.sub(r'[\\w\\-]+(\\.[\\w\\-]+)+\\.\\w+\\S*', '', comment_text)  # other URL formats\n",
    "                    \n",
    "                    comment_text = re.sub(r'\\[.*?\\]$', '', comment_text)  # Remove [...] at end\n",
    "                    comment_text = re.sub(r'\\(.*?\\)$', '', comment_text)  # Remove (...) at end\n",
    "    \n",
    "                    comment_text = re.sub(r'<[^>]+>', '', comment_text)  # HTML tags\n",
    "                    comment_text = re.sub(r'</?\\w+[^>]*>', '', comment_text)  #  remaining tags\n",
    "                    comment_text = re.sub(r'&[a-z]+;', '', comment_text)  # HTML entities\n",
    "                    comment_text = re.sub(r'[<>]', '', comment_text)  # stray brackets\n",
    "                    comment_text = re.sub(r'alt=[\\'\"]\\S+[\\'\"]', '', comment_text)  # alt attributes\n",
    "                    comment_text = re.sub(r'/a>', '', comment_text)  # closing a tags\n",
    "                    comment_text = re.sub(r'[^\\x00-\\x7F]+', '', comment_text) # non-ASCII\n",
    "                    comment_text = ' '.join(comment_text.split())\n",
    "                    comment_text = comment_text.strip()\n",
    "\n",
    "                    if not comment_text or not comment_text[0].isalpha():\n",
    "                        continue\n",
    "                        \n",
    "                    if comment_text and len(comment_text) > 3:\n",
    "                        sentiment, score = analyze_sentiment(comment_text)\n",
    "                        comment_data.append({\n",
    "                            'photo_id': photo_id,\n",
    "                            'author': comment.get('authorname', ''),\n",
    "                            'date': comment.get('datecreate', ''),\n",
    "                            'comment_text': comment_text, \n",
    "                            'sentiment': sentiment, \n",
    "                            'sentiment_score': score['compound']\n",
    "                        })\n",
    "        except requests.exceptions.RequestException as e:\n",
    "            print(f\"Error fetching comments for photo ID {photo_id}: {e}\")\n",
    "    if not comment_data:\n",
    "        print(\"No comments found for any of the photos\")\n",
    "    comment_df = pd.DataFrame(comment_data, columns=['photo_id','author','date','comment_text','sentiment','sentiment_score'])\n",
    "    comment_df['date'] = pd.to_datetime(comment_df['date'], unit='s', errors='coerce').dt.strftime('%Y-%m-%d')\n",
    "    return comment_df"
   ]
  },
  {
   "cell_type": "code",
   "execution_count": null,
   "id": "9b95f05f-d34c-46f6-9903-218927a77126",
   "metadata": {},
   "outputs": [],
   "source": [
    "def main():\n",
    "    # nltk.download('vader_lexicon')\n",
    "    # sid = SentimentIntensityAnalyzer()\n",
    "    search_words = ['gaza', 'palestine', 'refugees', 'Israel Palestine Conflict', 'Isreal', 'Middle East', 'Hamas']\n",
    "\n",
    "    \n",
    "    search_word = 'Gaza'\n",
    "    starts = '2023-01-01'\n",
    "    ends = '2024-11-01'\n",
    "    image_ids = search_for_photos(search_word, starts, ends)\n",
    "\n",
    "    \n",
    "    if image_ids:\n",
    "        df = fetch_and_display_comments(image_ids)\n",
    "        display(df)\n",
    "        df.to_csv(\"flickr_comments.csv\", index=False)\n",
    "    else:\n",
    "        print(\"no images found for this search term\")"
   ]
  },
  {
   "cell_type": "code",
   "execution_count": 9,
   "id": "c34bf24a-509d-4a89-bd02-1f4c95e243bd",
   "metadata": {
    "jp-MarkdownHeadingCollapsed": true
   },
   "outputs": [
    {
     "ename": "NameError",
     "evalue": "name 'search_word' is not defined",
     "output_type": "error",
     "traceback": [
      "\u001b[0;31m---------------------------------------------------------------------------\u001b[0m",
      "\u001b[0;31mNameError\u001b[0m                                 Traceback (most recent call last)",
      "Cell \u001b[0;32mIn[9], line 2\u001b[0m\n\u001b[1;32m      1\u001b[0m \u001b[38;5;28;01mif\u001b[39;00m \u001b[38;5;18m__name__\u001b[39m \u001b[38;5;241m==\u001b[39m \u001b[38;5;124m\"\u001b[39m\u001b[38;5;124m__main__\u001b[39m\u001b[38;5;124m\"\u001b[39m:\n\u001b[0;32m----> 2\u001b[0m     main()\n",
      "Cell \u001b[0;32mIn[8], line 10\u001b[0m, in \u001b[0;36mmain\u001b[0;34m()\u001b[0m\n\u001b[1;32m      8\u001b[0m starts \u001b[38;5;241m=\u001b[39m \u001b[38;5;124m'\u001b[39m\u001b[38;5;124m2023-01-01\u001b[39m\u001b[38;5;124m'\u001b[39m\n\u001b[1;32m      9\u001b[0m ends \u001b[38;5;241m=\u001b[39m \u001b[38;5;124m'\u001b[39m\u001b[38;5;124m2024-11-01\u001b[39m\u001b[38;5;124m'\u001b[39m\n\u001b[0;32m---> 10\u001b[0m image_ids \u001b[38;5;241m=\u001b[39m search_for_photos(search_word, starts, ends)\n\u001b[1;32m     13\u001b[0m \u001b[38;5;28;01mif\u001b[39;00m image_ids:\n\u001b[1;32m     14\u001b[0m     df \u001b[38;5;241m=\u001b[39m fetch_and_display_comments(image_ids)\n",
      "\u001b[0;31mNameError\u001b[0m: name 'search_word' is not defined"
     ]
    }
   ],
   "source": [
    "if __name__ == \"__main__\":\n",
    "    main()"
   ]
  }
 ],
 "metadata": {
  "kernelspec": {
   "display_name": "base",
   "language": "python",
   "name": "python3"
  },
  "language_info": {
   "codemirror_mode": {
    "name": "ipython",
    "version": 3
   },
   "file_extension": ".py",
   "mimetype": "text/x-python",
   "name": "python",
   "nbconvert_exporter": "python",
   "pygments_lexer": "ipython3",
   "version": "3.12.2"
  }
 },
 "nbformat": 4,
 "nbformat_minor": 5
}
